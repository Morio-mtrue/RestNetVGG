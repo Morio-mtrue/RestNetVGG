{
 "cells": [
  {
   "cell_type": "markdown",
   "id": "4eb072cc",
   "metadata": {},
   "source": [
    "#### Problem 1: Code Review"
   ]
  },
  {
   "cell_type": "markdown",
   "id": "a953c548",
   "metadata": {},
   "source": [
    "#### Description:\n",
    "Review the pre-prepared code provided in the file `MEF_sprint20_03_models_pretrained_and_more.ipynb`.\n",
    "This code uses transfer learning (called \"transition learning\" in the prompt) to improve segmentation accuracy.\n",
    "\n",
    "#### Viewpoints to consider:\n",
    "- How is this implementation different from the last used model?\n",
    "- How is transfer learning implemented in the code?\n",
    "  - Which pre-trained network is used?\n",
    "  - How are layers frozen/unfrozen?\n",
    "  - Is fine-tuning applied?\n"
   ]
  },
  {
   "cell_type": "markdown",
   "id": "687e794a",
   "metadata": {},
   "source": [
    "#### Problem 2: Rewrite Code"
   ]
  },
  {
   "cell_type": "code",
   "execution_count": 1,
   "id": "8c4d99cb",
   "metadata": {},
   "outputs": [
    {
     "name": "stdout",
     "output_type": "stream",
     "text": [
      "Downloading data from https://storage.googleapis.com/tensorflow/keras-applications/vgg16/vgg16_weights_tf_dim_ordering_tf_kernels_notop.h5\n",
      "\u001b[1m58889256/58889256\u001b[0m \u001b[32m━━━━━━━━━━━━━━━━━━━━\u001b[0m\u001b[37m\u001b[0m \u001b[1m42s\u001b[0m 1us/step\n"
     ]
    }
   ],
   "source": [
    "from tensorflow.keras.applications import VGG16\n",
    "\n",
    "base_model = VGG16(weights='imagenet', include_top=False, input_shape=(128, 128, 3))\n",
    "# Example: use base_model.get_layer('block3_pool').output for encoder features\n"
   ]
  },
  {
   "cell_type": "markdown",
   "id": "11ea83b6",
   "metadata": {},
   "source": [
    "#### Problem 3: Learning / Estimation"
   ]
  },
  {
   "cell_type": "markdown",
   "id": "370f6647",
   "metadata": {},
   "source": [
    "#### Description:\n",
    "Train and evaluate both models (ResNet-based and VGG-based) using the TGS Salt Identification Challenge dataset.\n",
    "\n",
    "#### Tasks:\n",
    "- Run training with the ResNet encoder.\n",
    "- Run training with the VGG encoder.\n",
    "- Compare the results:\n",
    "  - Accuracy\n",
    "  - IoU (Intersection over Union)\n",
    "  - Loss convergence\n",
    "  - Visual output of segmentation masks\n"
   ]
  }
 ],
 "metadata": {
  "kernelspec": {
   "display_name": "base",
   "language": "python",
   "name": "python3"
  },
  "language_info": {
   "codemirror_mode": {
    "name": "ipython",
    "version": 3
   },
   "file_extension": ".py",
   "mimetype": "text/x-python",
   "name": "python",
   "nbconvert_exporter": "python",
   "pygments_lexer": "ipython3",
   "version": "3.12.3"
  }
 },
 "nbformat": 4,
 "nbformat_minor": 5
}
